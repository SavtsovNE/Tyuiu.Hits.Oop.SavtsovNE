{
 "cells": [
  {
   "cell_type": "markdown",
   "metadata": {},
   "source": [
    "<h1 style=\"color:DodgerBlue\">Индивидальный проект</h1>"
   ]
  },
  {
   "cell_type": "markdown",
   "metadata": {},
   "source": [
    "<h2 style=\"color:DodgerBlue\">Название проекта:</h2>\n",
    "\n",
    "----\n",
    "\n",
    "### Вариант задания \n"
   ]
  },
  {
   "cell_type": "markdown",
   "metadata": {},
   "source": [
    "<h2 style=\"color:DodgerBlue\">Описание проекта:</h2>\n",
    "\n",
    "----\n",
    "\n",
    "[ваш текст]\n",
    "\n",
    "#### Дополнительное задание\n",
    "Добавьте к сущестующим классам (базовыму и производным 3-4 атрибута и метода) и реализуйте простое, сложное и множественное наследование"
   ]
  },
  {
   "cell_type": "markdown",
   "metadata": {},
   "source": [
    "<h2 style=\"color:DodgerBlue\">Реализация:</h2>\n",
    "\n",
    "----"
   ]
  },
  {
   "cell_type": "code",
   "execution_count": null,
   "metadata": {
    "dotnet_interactive": {
     "language": "csharp"
    },
    "polyglot_notebook": {
     "kernelName": "csharp"
    }
   },
   "outputs": [],
   "source": [
    "public class Vehicle\n",
    "{\n",
    "    public string Make { get; set; }\n",
    "    public string Model { get; set; }\n",
    "    public int Year { get; set; }\n",
    "\n",
    "    public Vehicle(string make, string model, int year)\n",
    "    {\n",
    "        Make = make;\n",
    "        Model = model;\n",
    "        Year = year;\n",
    "    }\n",
    "\n",
    "    public virtual void DisplayInfo()\n",
    "    {\n",
    "        Console.WriteLine($\"Производитель: {Make}, Модель: {Model}, Год: {Year}\");\n",
    "    }\n",
    "}\n",
    "\n",
    "public class Car : Vehicle\n",
    "{\n",
    "    public int Doors { get; set; }\n",
    "    public string FuelType { get; set; }\n",
    "\n",
    "    public Car(string make, string model, int year, int doors, string fuelType) : base(make, model, year)\n",
    "    {\n",
    "        Doors = doors;\n",
    "        FuelType = fuelType;\n",
    "    }\n",
    "\n",
    "    public override void DisplayInfo()\n",
    "    {\n",
    "        Console.WriteLine($\"Автомобиль: {Make} {Model}, {Doors} дверей, Топливо: {FuelType}, Год: {Year}\");\n",
    "    }\n",
    "}\n",
    "\n",
    "public class Motorcycle : Vehicle\n",
    "{\n",
    "    public bool HasSidecar { get; set; }\n",
    "    public double EngineSize { get; set; }\n",
    "\n",
    "    public Motorcycle(string make, string model, int year, bool hasSidecar, double engineSize) : base(make, model, year)\n",
    "    {\n",
    "        HasSidecar = hasSidecar;\n",
    "        EngineSize = engineSize;\n",
    "    }\n",
    "\n",
    "    public override void DisplayInfo()\n",
    "    {\n",
    "        string sidecar = HasSidecar ? \"с боковым прицепом\" : \"без бокового прицепа\";\n",
    "        Console.WriteLine($\"Мотоцикл: {Make} {Model}, {sidecar}, Объем двигателя: {EngineSize} см³, Год: {Year}\");\n",
    "    }\n",
    "}\n",
    "\n",
    "public class SportsCar : Car\n",
    "{\n",
    "    public double TopSpeed { get; set; }\n",
    "    public string Aerodynamics { get; set; }\n",
    "\n",
    "    public SportsCar(string make, string model, int year, int doors, string fuelType, double topSpeed, string aerodynamics) : base(make, model, year, doors, fuelType)\n",
    "    {\n",
    "        TopSpeed = topSpeed;\n",
    "        Aerodynamics = aerodynamics;\n",
    "    }\n",
    "\n",
    "    public override void DisplayInfo()\n",
    "    {\n",
    "        Console.WriteLine($\"Спортивный автомобиль: {Make} {Model}, {Doors} дверей, Макс. скорость: {TopSpeed} км/ч, Аэродинамика: {Aerodynamics}, Год: {Year}\");\n",
    "    }\n",
    "}\n",
    "\n",
    "public interface IConvertible\n",
    "{\n",
    "    void ConvertRoof();\n",
    "}\n",
    "\n",
    "public class ConvertibleCar : Car, IConvertible\n",
    "{\n",
    "    public bool IsRoofOpen { get; set; }\n",
    "\n",
    "    public ConvertibleCar(string make, string model, int year, int doors, string fuelType, bool isRoofOpen) : base(make, model, year, doors, fuelType)\n",
    "    {\n",
    "        IsRoofOpen = isRoofOpen;\n",
    "    }\n",
    "\n",
    "    public void ConvertRoof()\n",
    "    {\n",
    "        IsRoofOpen = !IsRoofOpen;\n",
    "        Console.WriteLine(IsRoofOpen ? \"Крыша открыта\" : \"Крыша закрыта\");\n",
    "    }\n",
    "\n",
    "    public override void DisplayInfo()\n",
    "    {\n",
    "        string roofStatus = IsRoofOpen ? \"крыша открыта\" : \"крыша закрыта\";\n",
    "        Console.WriteLine($\"Кабриолет: {Make} {Model}, {roofStatus}, {Doors} дверей, Топливо: {FuelType}, Год: {Year}\");\n",
    "    }\n",
    "}\n",
    "\n",
    "class Program\n",
    "{\n",
    "    static void Main()\n",
    "    {\n",
    "        var car = new Car(\"Toyota\", \"Camry\", 2020, 4, \"Бензин\");\n",
    "        var motorcycle = new Motorcycle(\"Harley-Davidson\", \"Sportster\", 2019, false, 883.0);\n",
    "        var sportsCar = new SportsCar(\"Ferrari\", \"488\", 2021, 2, \"Бензин\", 330.0, \"Высокая\");\n",
    "        var convertible = new ConvertibleCar(\"BMW\", \"Z4\", 2022, 2, \"Бензин\", true);\n",
    "\n",
    "        car.DisplayInfo();\n",
    "        motorcycle.DisplayInfo();\n",
    "        sportsCar.DisplayInfo();\n",
    "        convertible.DisplayInfo();\n",
    "        convertible.ConvertRoof();\n",
    "        convertible.DisplayInfo();\n",
    "    }\n",
    "}"
   ]
  }
 ],
 "metadata": {
  "kernelspec": {
   "display_name": ".NET (C#)",
   "language": "C#",
   "name": ".net-csharp"
  },
  "polyglot_notebook": {
   "kernelInfo": {
    "defaultKernelName": "csharp",
    "items": [
     {
      "aliases": [],
      "languageName": "csharp",
      "name": "csharp"
     }
    ]
   }
  }
 },
 "nbformat": 4,
 "nbformat_minor": 2
}
