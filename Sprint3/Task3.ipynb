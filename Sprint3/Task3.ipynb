{
 "cells": [
  {
   "cell_type": "markdown",
   "metadata": {},
   "source": [
    "<h1 style=\"color:DodgerBlue\">Индивидальный проект</h1>"
   ]
  },
  {
   "cell_type": "markdown",
   "metadata": {},
   "source": [
    "<h2 style=\"color:DodgerBlue\">Название проекта:</h2>\n",
    "\n",
    "----\n",
    "\n",
    "### Вариант задания \n"
   ]
  },
  {
   "cell_type": "markdown",
   "metadata": {},
   "source": [
    "<h2 style=\"color:DodgerBlue\">Описание проекта:</h2>\n",
    "\n",
    "----\n",
    "\n",
    "[ваш текст]\n",
    "\n",
    "#### Дополнительное задание\n",
    "Добавьте к сущестующим классам (базовыму и производным 3-4 атрибута и метода) и реализуйте полиморфизм с перекрытием и прегегрузкой методов, а также generic классы"
   ]
  },
  {
   "cell_type": "markdown",
   "metadata": {},
   "source": [
    "<h2 style=\"color:DodgerBlue\">Реализация:</h2>\n",
    "\n",
    "----"
   ]
  },
  {
   "cell_type": "code",
   "execution_count": null,
   "metadata": {
    "dotnet_interactive": {
     "language": "csharp"
    },
    "polyglot_notebook": {
     "kernelName": "csharp"
    }
   },
   "outputs": [],
   "source": [
    "public class Animal\n",
    "{\n",
    "    public string Name { get; set; }\n",
    "    public int Age { get; set; }\n",
    "    public double Weight { get; set; }\n",
    "    public bool IsHealthy { get; set; }\n",
    "\n",
    "    public Animal(string name, int age, double weight, bool isHealthy)\n",
    "    {\n",
    "        Name = name;\n",
    "        Age = age;\n",
    "        Weight = weight;\n",
    "        IsHealthy = isHealthy;\n",
    "    }\n",
    "\n",
    "    public virtual void MakeSound() => Console.WriteLine($\"{Name} издает звук.\");\n",
    "    public virtual void Move() => Console.WriteLine($\"{Name} движется.\");\n",
    "\n",
    "    public void Feed() => Console.WriteLine($\"{Name} ест.\");\n",
    "    public void Feed(string food) => Console.WriteLine($\"{Name} ест {food}.\");\n",
    "}\n",
    "\n",
    "public class Lion : Animal\n",
    "{\n",
    "    public string ManeColor { get; set; }\n",
    "\n",
    "    public Lion(string name, int age, double weight, bool isHealthy, string maneColor)\n",
    "        : base(name, age, weight, isHealthy) => ManeColor = maneColor;\n",
    "\n",
    "    public override void MakeSound() => Console.WriteLine($\"{Name} рычит!\");\n",
    "    public override void Move() => Console.WriteLine($\"{Name} шагает гордо.\");\n",
    "}\n",
    "\n",
    "public class Penguin : Animal\n",
    "{\n",
    "    public int FlipperLength { get; set; }\n",
    "\n",
    "    public Penguin(string name, int age, double weight, bool isHealthy, int flipperLength)\n",
    "        : base(name, age, weight, isHealthy) => FlipperLength = flipperLength;\n",
    "\n",
    "    public override void MakeSound() => Console.WriteLine($\"{Name} кричит: Кья!\");\n",
    "    public override void Move() => Console.WriteLine($\"{Name} скользит по льду.\");\n",
    "}\n",
    "\n",
    "public class Parrot : Animal\n",
    "{\n",
    "    public string Phrase { get; set; }\n",
    "\n",
    "    public Parrot(string name, int age, double weight, bool isHealthy, string phrase)\n",
    "        : base(name, age, weight, isHealthy) => Phrase = phrase;\n",
    "\n",
    "    public override void MakeSound() => Console.WriteLine($\"{Name} говорит: {Phrase}\");\n",
    "    public override void Move() => Console.WriteLine($\"{Name} летает.\");\n",
    "}\n",
    "\n",
    "public class Enclosure<T> where T : Animal\n",
    "{\n",
    "    private List<T> animals = new();\n",
    "\n",
    "    public void Add(T animal) => animals.Add(animal);\n",
    "    public void Show() => animals.ForEach(a =>\n",
    "    {\n",
    "        Console.WriteLine($\"— {a.Name}, {a.Age} лет\");\n",
    "        a.MakeSound();\n",
    "        a.Move();\n",
    "        a.Feed(\"фрукты\");\n",
    "    });\n",
    "}\n",
    "\n",
    "class Program\n",
    "{\n",
    "    static void Main()\n",
    "    {\n",
    "        var lions = new Enclosure<Lion>();\n",
    "        lions.Add(new Lion(\"Симба\", 5, 180, true, \"рыжий\"));\n",
    "        lions.Show();\n",
    "\n",
    "        var birds = new Enclosure<Parrot>();\n",
    "        birds.Add(new Parrot(\"Кеша\", 2, 0.5, true, \"Привет!\"));\n",
    "        birds.Show();\n",
    "    }\n",
    "}"
   ]
  }
 ],
 "metadata": {
  "kernelspec": {
   "display_name": ".NET (C#)",
   "language": "C#",
   "name": ".net-csharp"
  },
  "polyglot_notebook": {
   "kernelInfo": {
    "defaultKernelName": "csharp",
    "items": [
     {
      "aliases": [],
      "languageName": "csharp",
      "name": "csharp"
     }
    ]
   }
  }
 },
 "nbformat": 4,
 "nbformat_minor": 2
}
